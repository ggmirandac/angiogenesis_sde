{
 "cells": [
  {
   "cell_type": "code",
   "execution_count": 2,
   "metadata": {},
   "outputs": [],
   "source": [
    "# =============================================================================\n",
    "# Simulations on angiogenesis on fBm\n",
    "# Date 15-8-2024\n",
    "# =============================================================================\n",
    "\n",
    "# %% Functions and classes for simulating angiogenesis\n",
    "import numpy as np\n",
    "import scipy as sp\n",
    "import matplotlib.pyplot as plt\n",
    "from fbm.sim.davies_harte import DaviesHarteFBmGenerator\n",
    "from fbm.sim.cholesky import CholeskyFBmGenerator\n",
    "import time\n",
    "# import scipy.integrate as spi\n",
    "import statsmodels.api as sm\n",
    "import pandas as pd\n",
    "import scipy.stats as stats\n",
    "from scipy.spatial import distance\n",
    "from joblib import Parallel, delayed\n",
    "from functools import partial\n",
    "\n",
    "from tqdm import tqdm\n",
    "import warnings\n",
    "\n",
    "\n",
    "class Gradient:\n",
    "\n",
    "    def __init__(self, a0, *args, **kwargs):\n",
    "        self.initial_grad = a0\n",
    "\n",
    "    def calculate_gradient(self, x):\n",
    "        pass\n",
    "\n",
    "\n",
    "class GradientConstant(Gradient):\n",
    "    def __init__(self, a0):\n",
    "        super().__init__(a0)\n",
    "\n",
    "    def calculate_gradient(self, x):\n",
    "        x_grad = 0\n",
    "        y_grad = self.initial_grad / self.initial_grad\n",
    "\n",
    "        return np.array([x_grad, y_grad])\n",
    "\n",
    "class LinearGradient(Gradient):\n",
    "    def __init__(self, a0, xa, min_gradient):\n",
    "        '''\n",
    "        a0: Concentration at source\n",
    "        \n",
    "        xa: x coordinate of the source\n",
    "        \n",
    "        min_gradient: minimum gradient\n",
    "        '''\n",
    "        super().__init__(a0)\n",
    "        self.xa = xa\n",
    "        \n",
    "        self.min_gradient = min_gradient\n",
    "    def calculate_gradient(self, x):\n",
    "        x_grad = 0\n",
    "        m = (self.initial_grad - self.min_gradient ) / (self.xa[1])\n",
    "        y_grad = m * x[1] + self.min_gradient\n",
    "        \n",
    "        return np.array([x_grad, y_grad])/self.initial_grad\n",
    "        \n",
    "\n",
    "# class ChargeGradient(Gradient):\n",
    "#     def __init__(self, a0, xa, ya):\n",
    "#         super().__init__(a0)\n",
    "#         self.xa = xa\n",
    "#         self.ya = ya\n",
    "#     def calculate_gradient(self, x):\n",
    "        \n",
    "        "
   ]
  },
  {
   "cell_type": "code",
   "execution_count": null,
   "metadata": {},
   "outputs": [],
   "source": [
    "class ExponentialGradient(Gradient):\n",
    "    def __init__(self, a0, xa):\n",
    "        super().__init__(a0)\n",
    "        self.xa = xa\n",
    "    def calculate_gradient(self, x):\n",
    "        "
   ]
  },
  {
   "cell_type": "code",
   "execution_count": null,
   "metadata": {},
   "outputs": [
    {
     "data": {
      "application/vnd.jupyter.widget-view+json": {
       "model_id": "5b2e6bcb0f1e4dfcaa219f6133b57ece",
       "version_major": 2,
       "version_minor": 0
      },
      "text/plain": [
       "interactive(children=(FloatSlider(value=1.0, description='A:', max=5.0, min=0.1), FloatSlider(value=3.0, descr…"
      ]
     },
     "metadata": {},
     "output_type": "display_data"
    }
   ],
   "source": [
    "import numpy as np\n",
    "import matplotlib.pyplot as plt\n",
    "import ipywidgets as widgets\n",
    "from IPython.display import display, clear_output\n",
    "\n",
    "# Initial parameter values\n",
    "A0, B0, wall0 = 1, 3, 1\n",
    "\n",
    "# Create the figure and axis\n",
    "fig, ax = plt.subplots(figsize=(6, 4))\n",
    "x = np.linspace(0, wall0, 100)\n",
    "line, = ax.plot(x, A0 * (1 - np.exp(-B0 * x)))\n",
    "marker_line = ax.axvline(-np.log(1/2)/B0, color='r', linestyle='--')  # Vertical line for characteristic distance\n",
    "marker_text = ax.text(-np.log(1/2)/B0, A0 / 2, f'x = {-np.log(1/2)/B0:.2f}', color='red', fontsize=10)\n",
    "\n",
    "ax.set_xlim(0, wall0)\n",
    "ax.set_ylim(0, A0)\n",
    "plt.close(fig)  # Prevent duplicate display\n",
    "\n",
    "# Create sliders using ipywidgets\n",
    "slider_A = widgets.FloatSlider(value=A0, min=0.1, max=5.0, step=0.1, description='A:')\n",
    "slider_B = widgets.FloatSlider(value=B0, min=0.01, max=10.0, step=0.01, description='B:')\n",
    "slider_wall = widgets.FloatSlider(value=wall0, min=0.1, max=50.0, step=0.1, description='Wall:')\n",
    "\n",
    "# Define the update function\n",
    "def update_plot(A, B, wall):\n",
    "    x = np.linspace(0, wall, 100)\n",
    "    y = A * (1 - np.exp(-B * x))\n",
    "    line.set_data(x, y)\n",
    "    ax.set_xlim(0, wall)\n",
    "    ax.set_ylim(0, A)\n",
    "    \n",
    "    # Update marker line and text\n",
    "    x_half = -np.log(1/2) / B\n",
    "    marker_line.set_xdata([x_half, x_half])  # Set vertical line position\n",
    "    marker_text.set_position((x_half, A / 2))  # Update text position\n",
    "    marker_text.set_text(f'x = {x_half:.2f}')  # Update text content\n",
    "\n",
    "    clear_output(wait=True)\n",
    "    display(fig)\n",
    "    plt.show()\n",
    "\n",
    "# Use interactive display for the sliders\n",
    "interactive_plot = widgets.interactive(update_plot, A=slider_A, B=slider_B, wall=slider_wall)\n",
    "display(interactive_plot)\n"
   ]
  },
  {
   "cell_type": "code",
   "execution_count": 42,
   "metadata": {},
   "outputs": [
    {
     "data": {
      "application/vnd.jupyter.widget-view+json": {
       "model_id": "f02d1829e7d74b1a9f3d176990ef5002",
       "version_major": 2,
       "version_minor": 0
      },
      "text/plain": [
       "interactive(children=(FloatSlider(value=1.0, description='A:', max=5.0, min=0.1), FloatSlider(value=1.0, descr…"
      ]
     },
     "metadata": {},
     "output_type": "display_data"
    }
   ],
   "source": [
    "import numpy as np\n",
    "import matplotlib.pyplot as plt\n",
    "import ipywidgets as widgets\n",
    "from IPython.display import display, clear_output\n",
    "\n",
    "# Initial parameter values\n",
    "A0, wall0, coef0 = 1, 1, 0.01  # Added coef0\n",
    "\n",
    "# Create the figure and axis\n",
    "fig, ax = plt.subplots(figsize=(6, 4), dpi = 300)\n",
    "x = np.linspace(0, wall0, 100)\n",
    "B0 = -np.log(coef0) / wall0  # Calculate initial B\n",
    "line, = ax.plot(x, A0 * (1 - np.exp(-B0 * x)))\n",
    "ax.set_xlim(0, wall0)\n",
    "ax.set_ylim(0, A0)\n",
    "\n",
    "plt.close(fig)  # Prevent duplicate display\n",
    "\n",
    "# Create sliders using ipywidgets\n",
    "slider_A = widgets.FloatSlider(value=A0, min=0.1, max=5.0, step=0.1, description='A:')\n",
    "slider_wall = widgets.FloatSlider(value=wall0, min=0.1, max=50.0, step=0.1, description='Wall:')\n",
    "slider_coef = widgets.FloatSlider(value=coef0, min=0.001, max=1.0, step=0.00001, description='Coef:')\n",
    "\n",
    "# Define the update function\n",
    "def update_plot(A, wall, coef):\n",
    "    # Calculate B dynamically based on coef and wall\n",
    "    B = -np.log(coef) / wall  \n",
    "    x = np.linspace(0, wall, 100)\n",
    "    y = A * (1 - np.exp(-B * x))\n",
    "    \n",
    "    # Update the plot with new values\n",
    "    line.set_data(x, y)\n",
    "    ax.set_xlim(0, wall)\n",
    "    ax.set_ylim(0, A)\n",
    "    # ax.axvline(-np.log(1/2)/B, color='r', linestyle='--')  # Vertical line for characteristic distance\n",
    "    # ax.text(-np.log(1/2)/B, A / 2, f'x = {-np.log(1/2)/B0:.2f}', color='red', fontsize=10)\n",
    "\n",
    "    # Display A, wall, and B values in the title\n",
    "    ax.set_title(f'A = {A:.2f}, Wall = {wall:.1f}, Coef = {coef:.3f}, B = {B:.3f}')\n",
    "    \n",
    "    # Refresh the plot\n",
    "    clear_output(wait=True)\n",
    "    display(fig)\n",
    "    plt.show()\n",
    "\n",
    "# Use interactive display for the sliders\n",
    "interactive_plot = widgets.interactive(update_plot, A=slider_A, wall=slider_wall, coef=slider_coef)\n",
    "display(interactive_plot)\n"
   ]
  },
  {
   "cell_type": "code",
   "execution_count": 23,
   "metadata": {},
   "outputs": [
    {
     "name": "stderr",
     "output_type": "stream",
     "text": [
      "/var/folders/zv/p838yyl57rb2tlk802d5y2hh0000gn/T/ipykernel_8665/901295736.py:1: RuntimeWarning: divide by zero encountered in log\n",
      "  -np.log(0)/50\n"
     ]
    },
    {
     "data": {
      "text/plain": [
       "np.float64(inf)"
      ]
     },
     "execution_count": 23,
     "metadata": {},
     "output_type": "execute_result"
    }
   ],
   "source": [
    "-np.log(0)/50"
   ]
  },
  {
   "cell_type": "code",
   "execution_count": 40,
   "metadata": {},
   "outputs": [
    {
     "data": {
      "text/plain": [
       "[<matplotlib.lines.Line2D at 0x138a52250>]"
      ]
     },
     "execution_count": 40,
     "metadata": {},
     "output_type": "execute_result"
    },
    {
     "data": {
      "image/png": "[encoded data removed]",
      "text/plain": [
       "<Figure size 640x480 with 1 Axes>"
      ]
     },
     "metadata": {},
     "output_type": "display_data"
    }
   ],
   "source": [
    "R = 0.1\n",
    "r = np.linspace(R+0.01, 50, 100)\n",
    "grad = -R/r**2\n",
    "\n",
    "plt.plot(r, grad)"
   ]
  },
  {
   "cell_type": "code",
   "execution_count": 16,
   "metadata": {},
   "outputs": [
    {
     "data": {
      "text/plain": [
       "(0.0, 1.0)"
      ]
     },
     "execution_count": 16,
     "metadata": {},
     "output_type": "execute_result"
    },
    {
     "data": {
      "image/png": "[encoded data removed]",
      "text/plain": [
       "<Figure size 640x480 with 1 Axes>"
      ]
     },
     "metadata": {},
     "output_type": "display_data"
    }
   ],
   "source": [
    "fig, ax = plt.subplots()\n",
    "a0 = 3\n",
    "A = a0\n",
    "wall = 50\n",
    "prop = 0.9\n",
    "B = np.log(1-a0/A*prop)/(-wall/2)\n",
    "x = np.linspace(0, wall, 100)\n",
    "y = A * (1 - np.exp( -x * B ))/a0\n",
    "ax.plot(x, y)\n",
    "ax.set_ylim(0, 1)\n"
   ]
  },
  {
   "cell_type": "code",
   "execution_count": null,
   "metadata": {},
   "outputs": [],
   "source": []
  }
 ],
 "metadata": {
  "kernelspec": {
   "display_name": "Python 3",
   "language": "python",
   "name": "python3"
  },
  "language_info": {
   "codemirror_mode": {
    "name": "ipython",
    "version": 3
   },
   "file_extension": ".py",
   "mimetype": "text/x-python",
   "name": "python",
   "nbconvert_exporter": "python",
   "pygments_lexer": "ipython3",
   "version": "3.9.19"
  }
 },
 "nbformat": 4,
 "nbformat_minor": 2
}
